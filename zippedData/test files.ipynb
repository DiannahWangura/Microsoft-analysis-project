{
 "cells": [
  {
   "cell_type": "code",
   "execution_count": 1,
   "id": "fb406060",
   "metadata": {},
   "outputs": [
    {
     "name": "stdout",
     "output_type": "stream",
     "text": [
      " Volume in drive C has no label.\n",
      " Volume Serial Number is 7E74-9929\n",
      "\n",
      " Directory of C:\\Users\\hp\\Documents\\Flatiron\\dsc-phase-1-project\\zippedData\n",
      "\n",
      "10/31/2023  07:59 PM    <DIR>          .\n",
      "10/31/2023  07:59 PM    <DIR>          ..\n",
      "10/31/2023  07:59 PM    <DIR>          .ipynb_checkpoints\n",
      "10/27/2023  01:25 PM            53,544 bom.movie_gross.csv.gz\n",
      "10/27/2023  01:25 PM        18,070,960 imdb.name.basics.csv.gz\n",
      "10/27/2023  01:25 PM         5,599,979 imdb.title.akas.csv.gz\n",
      "10/27/2023  01:25 PM         3,459,897 imdb.title.basics.csv.gz\n",
      "10/27/2023  01:25 PM         1,898,523 imdb.title.crew.csv.gz\n",
      "10/27/2023  01:25 PM        12,287,583 imdb.title.principals.csv.gz\n",
      "10/27/2023  01:25 PM           539,530 imdb.title.ratings.csv.gz\n",
      "10/27/2023  01:25 PM           498,202 rt.movie_info.tsv.gz\n",
      "10/27/2023  01:25 PM         3,402,194 rt.reviews.tsv.gz\n",
      "10/27/2023  01:25 PM           827,840 tmdb.movies.csv.gz\n",
      "10/27/2023  01:25 PM           153,218 tn.movie_budgets.csv.gz\n",
      "10/31/2023  07:59 PM                72 Untitled.ipynb\n",
      "              12 File(s)     46,791,542 bytes\n",
      "               3 Dir(s)  366,822,178,816 bytes free\n"
     ]
    }
   ],
   "source": [
    "ls"
   ]
  },
  {
   "cell_type": "code",
   "execution_count": 1,
   "id": "1c45ba28",
   "metadata": {},
   "outputs": [
    {
     "data": {
      "text/html": [
       "<div>\n",
       "<style scoped>\n",
       "    .dataframe tbody tr th:only-of-type {\n",
       "        vertical-align: middle;\n",
       "    }\n",
       "\n",
       "    .dataframe tbody tr th {\n",
       "        vertical-align: top;\n",
       "    }\n",
       "\n",
       "    .dataframe thead th {\n",
       "        text-align: right;\n",
       "    }\n",
       "</style>\n",
       "<table border=\"1\" class=\"dataframe\">\n",
       "  <thead>\n",
       "    <tr style=\"text-align: right;\">\n",
       "      <th></th>\n",
       "      <th>tconst</th>\n",
       "      <th>primary_title</th>\n",
       "      <th>original_title</th>\n",
       "      <th>start_year</th>\n",
       "      <th>runtime_minutes</th>\n",
       "      <th>genres</th>\n",
       "    </tr>\n",
       "  </thead>\n",
       "  <tbody>\n",
       "    <tr>\n",
       "      <th>0</th>\n",
       "      <td>tt0063540</td>\n",
       "      <td>Sunghursh</td>\n",
       "      <td>Sunghursh</td>\n",
       "      <td>2013</td>\n",
       "      <td>175.0</td>\n",
       "      <td>Action,Crime,Drama</td>\n",
       "    </tr>\n",
       "    <tr>\n",
       "      <th>1</th>\n",
       "      <td>tt0066787</td>\n",
       "      <td>One Day Before the Rainy Season</td>\n",
       "      <td>Ashad Ka Ek Din</td>\n",
       "      <td>2019</td>\n",
       "      <td>114.0</td>\n",
       "      <td>Biography,Drama</td>\n",
       "    </tr>\n",
       "    <tr>\n",
       "      <th>2</th>\n",
       "      <td>tt0069049</td>\n",
       "      <td>The Other Side of the Wind</td>\n",
       "      <td>The Other Side of the Wind</td>\n",
       "      <td>2018</td>\n",
       "      <td>122.0</td>\n",
       "      <td>Drama</td>\n",
       "    </tr>\n",
       "    <tr>\n",
       "      <th>3</th>\n",
       "      <td>tt0069204</td>\n",
       "      <td>Sabse Bada Sukh</td>\n",
       "      <td>Sabse Bada Sukh</td>\n",
       "      <td>2018</td>\n",
       "      <td>NaN</td>\n",
       "      <td>Comedy,Drama</td>\n",
       "    </tr>\n",
       "    <tr>\n",
       "      <th>4</th>\n",
       "      <td>tt0100275</td>\n",
       "      <td>The Wandering Soap Opera</td>\n",
       "      <td>La Telenovela Errante</td>\n",
       "      <td>2017</td>\n",
       "      <td>80.0</td>\n",
       "      <td>Comedy,Drama,Fantasy</td>\n",
       "    </tr>\n",
       "    <tr>\n",
       "      <th>...</th>\n",
       "      <td>...</td>\n",
       "      <td>...</td>\n",
       "      <td>...</td>\n",
       "      <td>...</td>\n",
       "      <td>...</td>\n",
       "      <td>...</td>\n",
       "    </tr>\n",
       "    <tr>\n",
       "      <th>146139</th>\n",
       "      <td>tt9916538</td>\n",
       "      <td>Kuambil Lagi Hatiku</td>\n",
       "      <td>Kuambil Lagi Hatiku</td>\n",
       "      <td>2019</td>\n",
       "      <td>123.0</td>\n",
       "      <td>Drama</td>\n",
       "    </tr>\n",
       "    <tr>\n",
       "      <th>146140</th>\n",
       "      <td>tt9916622</td>\n",
       "      <td>Rodolpho Teóphilo - O Legado de um Pioneiro</td>\n",
       "      <td>Rodolpho Teóphilo - O Legado de um Pioneiro</td>\n",
       "      <td>2015</td>\n",
       "      <td>NaN</td>\n",
       "      <td>Documentary</td>\n",
       "    </tr>\n",
       "    <tr>\n",
       "      <th>146141</th>\n",
       "      <td>tt9916706</td>\n",
       "      <td>Dankyavar Danka</td>\n",
       "      <td>Dankyavar Danka</td>\n",
       "      <td>2013</td>\n",
       "      <td>NaN</td>\n",
       "      <td>Comedy</td>\n",
       "    </tr>\n",
       "    <tr>\n",
       "      <th>146142</th>\n",
       "      <td>tt9916730</td>\n",
       "      <td>6 Gunn</td>\n",
       "      <td>6 Gunn</td>\n",
       "      <td>2017</td>\n",
       "      <td>116.0</td>\n",
       "      <td>NaN</td>\n",
       "    </tr>\n",
       "    <tr>\n",
       "      <th>146143</th>\n",
       "      <td>tt9916754</td>\n",
       "      <td>Chico Albuquerque - Revelações</td>\n",
       "      <td>Chico Albuquerque - Revelações</td>\n",
       "      <td>2013</td>\n",
       "      <td>NaN</td>\n",
       "      <td>Documentary</td>\n",
       "    </tr>\n",
       "  </tbody>\n",
       "</table>\n",
       "<p>146144 rows × 6 columns</p>\n",
       "</div>"
      ],
      "text/plain": [
       "           tconst                                primary_title  \\\n",
       "0       tt0063540                                    Sunghursh   \n",
       "1       tt0066787              One Day Before the Rainy Season   \n",
       "2       tt0069049                   The Other Side of the Wind   \n",
       "3       tt0069204                              Sabse Bada Sukh   \n",
       "4       tt0100275                     The Wandering Soap Opera   \n",
       "...           ...                                          ...   \n",
       "146139  tt9916538                          Kuambil Lagi Hatiku   \n",
       "146140  tt9916622  Rodolpho Teóphilo - O Legado de um Pioneiro   \n",
       "146141  tt9916706                              Dankyavar Danka   \n",
       "146142  tt9916730                                       6 Gunn   \n",
       "146143  tt9916754               Chico Albuquerque - Revelações   \n",
       "\n",
       "                                     original_title  start_year  \\\n",
       "0                                         Sunghursh        2013   \n",
       "1                                   Ashad Ka Ek Din        2019   \n",
       "2                        The Other Side of the Wind        2018   \n",
       "3                                   Sabse Bada Sukh        2018   \n",
       "4                             La Telenovela Errante        2017   \n",
       "...                                             ...         ...   \n",
       "146139                          Kuambil Lagi Hatiku        2019   \n",
       "146140  Rodolpho Teóphilo - O Legado de um Pioneiro        2015   \n",
       "146141                              Dankyavar Danka        2013   \n",
       "146142                                       6 Gunn        2017   \n",
       "146143               Chico Albuquerque - Revelações        2013   \n",
       "\n",
       "        runtime_minutes                genres  \n",
       "0                 175.0    Action,Crime,Drama  \n",
       "1                 114.0       Biography,Drama  \n",
       "2                 122.0                 Drama  \n",
       "3                   NaN          Comedy,Drama  \n",
       "4                  80.0  Comedy,Drama,Fantasy  \n",
       "...                 ...                   ...  \n",
       "146139            123.0                 Drama  \n",
       "146140              NaN           Documentary  \n",
       "146141              NaN                Comedy  \n",
       "146142            116.0                   NaN  \n",
       "146143              NaN           Documentary  \n",
       "\n",
       "[146144 rows x 6 columns]"
      ]
     },
     "execution_count": 1,
     "metadata": {},
     "output_type": "execute_result"
    }
   ],
   "source": [
    "import pandas as pd\n",
    "titlebasics = pd.read_csv(\"imdb.title.basics.csv.gz\")\n",
    "titlebasics"
   ]
  },
  {
   "cell_type": "code",
   "execution_count": 2,
   "id": "8a1741e9",
   "metadata": {},
   "outputs": [
    {
     "data": {
      "text/plain": [
       "count        146144\n",
       "unique       146144\n",
       "top       tt0063540\n",
       "freq              1\n",
       "Name: tconst, dtype: object"
      ]
     },
     "execution_count": 2,
     "metadata": {},
     "output_type": "execute_result"
    }
   ],
   "source": [
    "# We check if there are any repeated data in tconst and the results shows all are unique\n",
    "titlebasics['tconst'].describe()"
   ]
  },
  {
   "cell_type": "code",
   "execution_count": 3,
   "id": "5f76300e",
   "metadata": {},
   "outputs": [
    {
     "name": "stdout",
     "output_type": "stream",
     "text": [
      "<class 'pandas.core.frame.DataFrame'>\n",
      "RangeIndex: 146144 entries, 0 to 146143\n",
      "Data columns (total 6 columns):\n",
      " #   Column           Non-Null Count   Dtype  \n",
      "---  ------           --------------   -----  \n",
      " 0   tconst           146144 non-null  object \n",
      " 1   primary_title    146143 non-null  object \n",
      " 2   original_title   146122 non-null  object \n",
      " 3   start_year       146144 non-null  int64  \n",
      " 4   runtime_minutes  114405 non-null  float64\n",
      " 5   genres           140736 non-null  object \n",
      "dtypes: float64(1), int64(1), object(4)\n",
      "memory usage: 6.7+ MB\n"
     ]
    }
   ],
   "source": [
    "# checking for null values to determine whether to fill or drop them if they have no significant effect on our data\n",
    "titlebasics.info()"
   ]
  },
  {
   "cell_type": "code",
   "execution_count": 4,
   "id": "d9f51110",
   "metadata": {},
   "outputs": [
    {
     "data": {
      "text/plain": [
       "tconst                 0\n",
       "primary_title          1\n",
       "original_title        22\n",
       "start_year             0\n",
       "runtime_minutes    31739\n",
       "genres              5408\n",
       "dtype: int64"
      ]
     },
     "execution_count": 4,
     "metadata": {},
     "output_type": "execute_result"
    }
   ],
   "source": [
    "# checking the total number of null in our data and runtime_minutes has the highest which\n",
    "# i advice to drop them as it has no significant impact in our analysis and it would take a great amount of time trying to fill them\n",
    "titlebasics.isna().sum()"
   ]
  },
  {
   "cell_type": "code",
   "execution_count": 5,
   "id": "3957bf4a",
   "metadata": {},
   "outputs": [],
   "source": [
    "# dropping runtime_minutes as they have a lot of null\n",
    "titlebasics.drop('runtime_minutes', axis = 1, inplace = True) "
   ]
  },
  {
   "cell_type": "code",
   "execution_count": 6,
   "id": "8b687f1a",
   "metadata": {},
   "outputs": [],
   "source": [
    "# drop the rows which genres are null as its percentage to the total data is minimal \n",
    "titlebasics.dropna(axis = 0, subset=['genres'], inplace=True)"
   ]
  },
  {
   "cell_type": "code",
   "execution_count": 7,
   "id": "4ef48988",
   "metadata": {},
   "outputs": [
    {
     "data": {
      "text/plain": [
       "(140736, 5)"
      ]
     },
     "execution_count": 7,
     "metadata": {},
     "output_type": "execute_result"
    }
   ],
   "source": [
    "# this is the shape of the cleaned data\n",
    "titlebasics.shape"
   ]
  },
  {
   "cell_type": "code",
   "execution_count": 8,
   "id": "d3d243b0",
   "metadata": {},
   "outputs": [
    {
     "data": {
      "text/html": [
       "<div>\n",
       "<style scoped>\n",
       "    .dataframe tbody tr th:only-of-type {\n",
       "        vertical-align: middle;\n",
       "    }\n",
       "\n",
       "    .dataframe tbody tr th {\n",
       "        vertical-align: top;\n",
       "    }\n",
       "\n",
       "    .dataframe thead th {\n",
       "        text-align: right;\n",
       "    }\n",
       "</style>\n",
       "<table border=\"1\" class=\"dataframe\">\n",
       "  <thead>\n",
       "    <tr style=\"text-align: right;\">\n",
       "      <th></th>\n",
       "      <th>tconst</th>\n",
       "      <th>primary_title</th>\n",
       "      <th>original_title</th>\n",
       "      <th>start_year</th>\n",
       "      <th>genres</th>\n",
       "    </tr>\n",
       "  </thead>\n",
       "  <tbody>\n",
       "    <tr>\n",
       "      <th>0</th>\n",
       "      <td>tt0063540</td>\n",
       "      <td>Sunghursh</td>\n",
       "      <td>Sunghursh</td>\n",
       "      <td>2013</td>\n",
       "      <td>Action,Crime,Drama</td>\n",
       "    </tr>\n",
       "    <tr>\n",
       "      <th>1</th>\n",
       "      <td>tt0066787</td>\n",
       "      <td>One Day Before the Rainy Season</td>\n",
       "      <td>Ashad Ka Ek Din</td>\n",
       "      <td>2019</td>\n",
       "      <td>Biography,Drama</td>\n",
       "    </tr>\n",
       "    <tr>\n",
       "      <th>2</th>\n",
       "      <td>tt0069049</td>\n",
       "      <td>The Other Side of the Wind</td>\n",
       "      <td>The Other Side of the Wind</td>\n",
       "      <td>2018</td>\n",
       "      <td>Drama</td>\n",
       "    </tr>\n",
       "    <tr>\n",
       "      <th>3</th>\n",
       "      <td>tt0069204</td>\n",
       "      <td>Sabse Bada Sukh</td>\n",
       "      <td>Sabse Bada Sukh</td>\n",
       "      <td>2018</td>\n",
       "      <td>Comedy,Drama</td>\n",
       "    </tr>\n",
       "    <tr>\n",
       "      <th>4</th>\n",
       "      <td>tt0100275</td>\n",
       "      <td>The Wandering Soap Opera</td>\n",
       "      <td>La Telenovela Errante</td>\n",
       "      <td>2017</td>\n",
       "      <td>Comedy,Drama,Fantasy</td>\n",
       "    </tr>\n",
       "  </tbody>\n",
       "</table>\n",
       "</div>"
      ],
      "text/plain": [
       "      tconst                    primary_title              original_title  \\\n",
       "0  tt0063540                        Sunghursh                   Sunghursh   \n",
       "1  tt0066787  One Day Before the Rainy Season             Ashad Ka Ek Din   \n",
       "2  tt0069049       The Other Side of the Wind  The Other Side of the Wind   \n",
       "3  tt0069204                  Sabse Bada Sukh             Sabse Bada Sukh   \n",
       "4  tt0100275         The Wandering Soap Opera       La Telenovela Errante   \n",
       "\n",
       "   start_year                genres  \n",
       "0        2013    Action,Crime,Drama  \n",
       "1        2019       Biography,Drama  \n",
       "2        2018                 Drama  \n",
       "3        2018          Comedy,Drama  \n",
       "4        2017  Comedy,Drama,Fantasy  "
      ]
     },
     "execution_count": 8,
     "metadata": {},
     "output_type": "execute_result"
    }
   ],
   "source": [
    "# first five details of our data\n",
    "titlebasics.head()"
   ]
  },
  {
   "cell_type": "code",
   "execution_count": 9,
   "id": "f828a135",
   "metadata": {},
   "outputs": [
    {
     "data": {
      "text/html": [
       "<div>\n",
       "<style scoped>\n",
       "    .dataframe tbody tr th:only-of-type {\n",
       "        vertical-align: middle;\n",
       "    }\n",
       "\n",
       "    .dataframe tbody tr th {\n",
       "        vertical-align: top;\n",
       "    }\n",
       "\n",
       "    .dataframe thead th {\n",
       "        text-align: right;\n",
       "    }\n",
       "</style>\n",
       "<table border=\"1\" class=\"dataframe\">\n",
       "  <thead>\n",
       "    <tr style=\"text-align: right;\">\n",
       "      <th></th>\n",
       "      <th>tconst</th>\n",
       "      <th>averagerating</th>\n",
       "      <th>numvotes</th>\n",
       "    </tr>\n",
       "  </thead>\n",
       "  <tbody>\n",
       "    <tr>\n",
       "      <th>0</th>\n",
       "      <td>tt10356526</td>\n",
       "      <td>8.3</td>\n",
       "      <td>31</td>\n",
       "    </tr>\n",
       "    <tr>\n",
       "      <th>1</th>\n",
       "      <td>tt10384606</td>\n",
       "      <td>8.9</td>\n",
       "      <td>559</td>\n",
       "    </tr>\n",
       "    <tr>\n",
       "      <th>2</th>\n",
       "      <td>tt1042974</td>\n",
       "      <td>6.4</td>\n",
       "      <td>20</td>\n",
       "    </tr>\n",
       "    <tr>\n",
       "      <th>3</th>\n",
       "      <td>tt1043726</td>\n",
       "      <td>4.2</td>\n",
       "      <td>50352</td>\n",
       "    </tr>\n",
       "    <tr>\n",
       "      <th>4</th>\n",
       "      <td>tt1060240</td>\n",
       "      <td>6.5</td>\n",
       "      <td>21</td>\n",
       "    </tr>\n",
       "    <tr>\n",
       "      <th>...</th>\n",
       "      <td>...</td>\n",
       "      <td>...</td>\n",
       "      <td>...</td>\n",
       "    </tr>\n",
       "    <tr>\n",
       "      <th>73851</th>\n",
       "      <td>tt9805820</td>\n",
       "      <td>8.1</td>\n",
       "      <td>25</td>\n",
       "    </tr>\n",
       "    <tr>\n",
       "      <th>73852</th>\n",
       "      <td>tt9844256</td>\n",
       "      <td>7.5</td>\n",
       "      <td>24</td>\n",
       "    </tr>\n",
       "    <tr>\n",
       "      <th>73853</th>\n",
       "      <td>tt9851050</td>\n",
       "      <td>4.7</td>\n",
       "      <td>14</td>\n",
       "    </tr>\n",
       "    <tr>\n",
       "      <th>73854</th>\n",
       "      <td>tt9886934</td>\n",
       "      <td>7.0</td>\n",
       "      <td>5</td>\n",
       "    </tr>\n",
       "    <tr>\n",
       "      <th>73855</th>\n",
       "      <td>tt9894098</td>\n",
       "      <td>6.3</td>\n",
       "      <td>128</td>\n",
       "    </tr>\n",
       "  </tbody>\n",
       "</table>\n",
       "<p>73856 rows × 3 columns</p>\n",
       "</div>"
      ],
      "text/plain": [
       "           tconst  averagerating  numvotes\n",
       "0      tt10356526            8.3        31\n",
       "1      tt10384606            8.9       559\n",
       "2       tt1042974            6.4        20\n",
       "3       tt1043726            4.2     50352\n",
       "4       tt1060240            6.5        21\n",
       "...           ...            ...       ...\n",
       "73851   tt9805820            8.1        25\n",
       "73852   tt9844256            7.5        24\n",
       "73853   tt9851050            4.7        14\n",
       "73854   tt9886934            7.0         5\n",
       "73855   tt9894098            6.3       128\n",
       "\n",
       "[73856 rows x 3 columns]"
      ]
     },
     "execution_count": 9,
     "metadata": {},
     "output_type": "execute_result"
    }
   ],
   "source": [
    "import pandas as pd\n",
    "titleratings = pd.read_csv(\"imdb.title.ratings.csv.gz\")\n",
    "titleratings"
   ]
  },
  {
   "cell_type": "code",
   "execution_count": 10,
   "id": "90bb4902",
   "metadata": {},
   "outputs": [
    {
     "data": {
      "text/plain": [
       "count          73856\n",
       "unique         73856\n",
       "top       tt10356526\n",
       "freq               1\n",
       "Name: tconst, dtype: object"
      ]
     },
     "execution_count": 10,
     "metadata": {},
     "output_type": "execute_result"
    }
   ],
   "source": [
    "# getting to know if the tconst has unique values\n",
    "titleratings['tconst'].describe()"
   ]
  },
  {
   "cell_type": "code",
   "execution_count": 11,
   "id": "6ae192cb",
   "metadata": {},
   "outputs": [
    {
     "name": "stdout",
     "output_type": "stream",
     "text": [
      "<class 'pandas.core.frame.DataFrame'>\n",
      "RangeIndex: 73856 entries, 0 to 73855\n",
      "Data columns (total 3 columns):\n",
      " #   Column         Non-Null Count  Dtype  \n",
      "---  ------         --------------  -----  \n",
      " 0   tconst         73856 non-null  object \n",
      " 1   averagerating  73856 non-null  float64\n",
      " 2   numvotes       73856 non-null  int64  \n",
      "dtypes: float64(1), int64(1), object(1)\n",
      "memory usage: 1.7+ MB\n"
     ]
    }
   ],
   "source": [
    "# cheching on the information of our data and the results show the data has no nulls and its ready for analysis\n",
    "titleratings.info()"
   ]
  },
  {
   "cell_type": "code",
   "execution_count": 12,
   "id": "a87f7fd5",
   "metadata": {},
   "outputs": [
    {
     "data": {
      "text/html": [
       "<div>\n",
       "<style scoped>\n",
       "    .dataframe tbody tr th:only-of-type {\n",
       "        vertical-align: middle;\n",
       "    }\n",
       "\n",
       "    .dataframe tbody tr th {\n",
       "        vertical-align: top;\n",
       "    }\n",
       "\n",
       "    .dataframe thead th {\n",
       "        text-align: right;\n",
       "    }\n",
       "</style>\n",
       "<table border=\"1\" class=\"dataframe\">\n",
       "  <thead>\n",
       "    <tr style=\"text-align: right;\">\n",
       "      <th></th>\n",
       "      <th>tconst</th>\n",
       "      <th>primary_title</th>\n",
       "      <th>original_title</th>\n",
       "      <th>start_year</th>\n",
       "      <th>genres</th>\n",
       "      <th>averagerating</th>\n",
       "      <th>numvotes</th>\n",
       "    </tr>\n",
       "  </thead>\n",
       "  <tbody>\n",
       "    <tr>\n",
       "      <th>0</th>\n",
       "      <td>tt0063540</td>\n",
       "      <td>Sunghursh</td>\n",
       "      <td>Sunghursh</td>\n",
       "      <td>2013</td>\n",
       "      <td>Action,Crime,Drama</td>\n",
       "      <td>7.0</td>\n",
       "      <td>77.0</td>\n",
       "    </tr>\n",
       "    <tr>\n",
       "      <th>1</th>\n",
       "      <td>tt0066787</td>\n",
       "      <td>One Day Before the Rainy Season</td>\n",
       "      <td>Ashad Ka Ek Din</td>\n",
       "      <td>2019</td>\n",
       "      <td>Biography,Drama</td>\n",
       "      <td>7.2</td>\n",
       "      <td>43.0</td>\n",
       "    </tr>\n",
       "    <tr>\n",
       "      <th>2</th>\n",
       "      <td>tt0069049</td>\n",
       "      <td>The Other Side of the Wind</td>\n",
       "      <td>The Other Side of the Wind</td>\n",
       "      <td>2018</td>\n",
       "      <td>Drama</td>\n",
       "      <td>6.9</td>\n",
       "      <td>4517.0</td>\n",
       "    </tr>\n",
       "    <tr>\n",
       "      <th>3</th>\n",
       "      <td>tt0069204</td>\n",
       "      <td>Sabse Bada Sukh</td>\n",
       "      <td>Sabse Bada Sukh</td>\n",
       "      <td>2018</td>\n",
       "      <td>Comedy,Drama</td>\n",
       "      <td>6.1</td>\n",
       "      <td>13.0</td>\n",
       "    </tr>\n",
       "    <tr>\n",
       "      <th>4</th>\n",
       "      <td>tt0100275</td>\n",
       "      <td>The Wandering Soap Opera</td>\n",
       "      <td>La Telenovela Errante</td>\n",
       "      <td>2017</td>\n",
       "      <td>Comedy,Drama,Fantasy</td>\n",
       "      <td>6.5</td>\n",
       "      <td>119.0</td>\n",
       "    </tr>\n",
       "    <tr>\n",
       "      <th>...</th>\n",
       "      <td>...</td>\n",
       "      <td>...</td>\n",
       "      <td>...</td>\n",
       "      <td>...</td>\n",
       "      <td>...</td>\n",
       "      <td>...</td>\n",
       "      <td>...</td>\n",
       "    </tr>\n",
       "    <tr>\n",
       "      <th>140731</th>\n",
       "      <td>tt9916428</td>\n",
       "      <td>The Secret of China</td>\n",
       "      <td>The Secret of China</td>\n",
       "      <td>2019</td>\n",
       "      <td>Adventure,History,War</td>\n",
       "      <td>NaN</td>\n",
       "      <td>NaN</td>\n",
       "    </tr>\n",
       "    <tr>\n",
       "      <th>140732</th>\n",
       "      <td>tt9916538</td>\n",
       "      <td>Kuambil Lagi Hatiku</td>\n",
       "      <td>Kuambil Lagi Hatiku</td>\n",
       "      <td>2019</td>\n",
       "      <td>Drama</td>\n",
       "      <td>NaN</td>\n",
       "      <td>NaN</td>\n",
       "    </tr>\n",
       "    <tr>\n",
       "      <th>140733</th>\n",
       "      <td>tt9916622</td>\n",
       "      <td>Rodolpho Teóphilo - O Legado de um Pioneiro</td>\n",
       "      <td>Rodolpho Teóphilo - O Legado de um Pioneiro</td>\n",
       "      <td>2015</td>\n",
       "      <td>Documentary</td>\n",
       "      <td>NaN</td>\n",
       "      <td>NaN</td>\n",
       "    </tr>\n",
       "    <tr>\n",
       "      <th>140734</th>\n",
       "      <td>tt9916706</td>\n",
       "      <td>Dankyavar Danka</td>\n",
       "      <td>Dankyavar Danka</td>\n",
       "      <td>2013</td>\n",
       "      <td>Comedy</td>\n",
       "      <td>NaN</td>\n",
       "      <td>NaN</td>\n",
       "    </tr>\n",
       "    <tr>\n",
       "      <th>140735</th>\n",
       "      <td>tt9916754</td>\n",
       "      <td>Chico Albuquerque - Revelações</td>\n",
       "      <td>Chico Albuquerque - Revelações</td>\n",
       "      <td>2013</td>\n",
       "      <td>Documentary</td>\n",
       "      <td>NaN</td>\n",
       "      <td>NaN</td>\n",
       "    </tr>\n",
       "  </tbody>\n",
       "</table>\n",
       "<p>140736 rows × 7 columns</p>\n",
       "</div>"
      ],
      "text/plain": [
       "           tconst                                primary_title  \\\n",
       "0       tt0063540                                    Sunghursh   \n",
       "1       tt0066787              One Day Before the Rainy Season   \n",
       "2       tt0069049                   The Other Side of the Wind   \n",
       "3       tt0069204                              Sabse Bada Sukh   \n",
       "4       tt0100275                     The Wandering Soap Opera   \n",
       "...           ...                                          ...   \n",
       "140731  tt9916428                          The Secret of China   \n",
       "140732  tt9916538                          Kuambil Lagi Hatiku   \n",
       "140733  tt9916622  Rodolpho Teóphilo - O Legado de um Pioneiro   \n",
       "140734  tt9916706                              Dankyavar Danka   \n",
       "140735  tt9916754               Chico Albuquerque - Revelações   \n",
       "\n",
       "                                     original_title  start_year  \\\n",
       "0                                         Sunghursh        2013   \n",
       "1                                   Ashad Ka Ek Din        2019   \n",
       "2                        The Other Side of the Wind        2018   \n",
       "3                                   Sabse Bada Sukh        2018   \n",
       "4                             La Telenovela Errante        2017   \n",
       "...                                             ...         ...   \n",
       "140731                          The Secret of China        2019   \n",
       "140732                          Kuambil Lagi Hatiku        2019   \n",
       "140733  Rodolpho Teóphilo - O Legado de um Pioneiro        2015   \n",
       "140734                              Dankyavar Danka        2013   \n",
       "140735               Chico Albuquerque - Revelações        2013   \n",
       "\n",
       "                       genres  averagerating  numvotes  \n",
       "0          Action,Crime,Drama            7.0      77.0  \n",
       "1             Biography,Drama            7.2      43.0  \n",
       "2                       Drama            6.9    4517.0  \n",
       "3                Comedy,Drama            6.1      13.0  \n",
       "4        Comedy,Drama,Fantasy            6.5     119.0  \n",
       "...                       ...            ...       ...  \n",
       "140731  Adventure,History,War            NaN       NaN  \n",
       "140732                  Drama            NaN       NaN  \n",
       "140733            Documentary            NaN       NaN  \n",
       "140734                 Comedy            NaN       NaN  \n",
       "140735            Documentary            NaN       NaN  \n",
       "\n",
       "[140736 rows x 7 columns]"
      ]
     },
     "execution_count": 12,
     "metadata": {},
     "output_type": "execute_result"
    }
   ],
   "source": [
    "# I combined the title ratings and title basics to give me a broader view of the analysis,\n",
    "# i used the tconst to merge the two as its the column which has similar values in both data sets\n",
    "movies  = pd.merge(titlebasics, \n",
    "                              titleratings, \n",
    "                              on=['tconst'], \n",
    "                              how='left')\n",
    "movies"
   ]
  },
  {
   "cell_type": "code",
   "execution_count": 13,
   "id": "6740e6d1",
   "metadata": {},
   "outputs": [
    {
     "name": "stdout",
     "output_type": "stream",
     "text": [
      "<class 'pandas.core.frame.DataFrame'>\n",
      "RangeIndex: 140736 entries, 0 to 140735\n",
      "Data columns (total 7 columns):\n",
      " #   Column          Non-Null Count   Dtype  \n",
      "---  ------          --------------   -----  \n",
      " 0   tconst          140736 non-null  object \n",
      " 1   primary_title   140735 non-null  object \n",
      " 2   original_title  140733 non-null  object \n",
      " 3   start_year      140736 non-null  int64  \n",
      " 4   genres          140736 non-null  object \n",
      " 5   averagerating   73052 non-null   float64\n",
      " 6   numvotes        73052 non-null   float64\n",
      "dtypes: float64(2), int64(1), object(4)\n",
      "memory usage: 7.5+ MB\n"
     ]
    }
   ],
   "source": [
    "#the merged data set movies will have nulls as the title basics has 140736 rows and\n",
    "# title ratings has 73856 which could mean some movies had no ratings\n",
    "movies.info()"
   ]
  },
  {
   "cell_type": "code",
   "execution_count": 14,
   "id": "37f1a61b",
   "metadata": {},
   "outputs": [],
   "source": [
    "# drop the rows with null values in average rating and numvotes\n",
    "movies.dropna(axis = 0, subset=['numvotes'], inplace=True)"
   ]
  },
  {
   "cell_type": "code",
   "execution_count": 15,
   "id": "cb25f5d6",
   "metadata": {},
   "outputs": [],
   "source": [
    "# drop the original_title as its contents are the same as that of primary_title\n",
    "movies.drop('original_title', axis = 1, inplace = True)"
   ]
  },
  {
   "cell_type": "code",
   "execution_count": 16,
   "id": "71d06108",
   "metadata": {},
   "outputs": [
    {
     "name": "stdout",
     "output_type": "stream",
     "text": [
      "<class 'pandas.core.frame.DataFrame'>\n",
      "Index: 73052 entries, 0 to 140727\n",
      "Data columns (total 6 columns):\n",
      " #   Column         Non-Null Count  Dtype  \n",
      "---  ------         --------------  -----  \n",
      " 0   tconst         73052 non-null  object \n",
      " 1   primary_title  73052 non-null  object \n",
      " 2   start_year     73052 non-null  int64  \n",
      " 3   genres         73052 non-null  object \n",
      " 4   averagerating  73052 non-null  float64\n",
      " 5   numvotes       73052 non-null  float64\n",
      "dtypes: float64(2), int64(1), object(3)\n",
      "memory usage: 3.9+ MB\n"
     ]
    }
   ],
   "source": [
    "# checking if we still have non-null values the results shows our data is clean to work with\n",
    "movies.info()"
   ]
  },
  {
   "cell_type": "code",
   "execution_count": 17,
   "id": "5816f146",
   "metadata": {},
   "outputs": [
    {
     "data": {
      "text/html": [
       "<div>\n",
       "<style scoped>\n",
       "    .dataframe tbody tr th:only-of-type {\n",
       "        vertical-align: middle;\n",
       "    }\n",
       "\n",
       "    .dataframe tbody tr th {\n",
       "        vertical-align: top;\n",
       "    }\n",
       "\n",
       "    .dataframe thead th {\n",
       "        text-align: right;\n",
       "    }\n",
       "</style>\n",
       "<table border=\"1\" class=\"dataframe\">\n",
       "  <thead>\n",
       "    <tr style=\"text-align: right;\">\n",
       "      <th></th>\n",
       "      <th>tconst</th>\n",
       "      <th>primary_title</th>\n",
       "      <th>start_year</th>\n",
       "      <th>genres</th>\n",
       "      <th>averagerating</th>\n",
       "      <th>numvotes</th>\n",
       "    </tr>\n",
       "  </thead>\n",
       "  <tbody>\n",
       "    <tr>\n",
       "      <th>83747</th>\n",
       "      <td>tt4976628</td>\n",
       "      <td>Fool Moon</td>\n",
       "      <td>2016</td>\n",
       "      <td>Comedy,Drama</td>\n",
       "      <td>5.3</td>\n",
       "      <td>62.0</td>\n",
       "    </tr>\n",
       "    <tr>\n",
       "      <th>49593</th>\n",
       "      <td>tt3018596</td>\n",
       "      <td>Nietzermann</td>\n",
       "      <td>2015</td>\n",
       "      <td>Documentary,Mystery,Thriller</td>\n",
       "      <td>7.4</td>\n",
       "      <td>42.0</td>\n",
       "    </tr>\n",
       "    <tr>\n",
       "      <th>34401</th>\n",
       "      <td>tt2303278</td>\n",
       "      <td>Baseball Chronicles</td>\n",
       "      <td>2010</td>\n",
       "      <td>Documentary</td>\n",
       "      <td>5.3</td>\n",
       "      <td>13.0</td>\n",
       "    </tr>\n",
       "    <tr>\n",
       "      <th>5688</th>\n",
       "      <td>tt1262958</td>\n",
       "      <td>A Small Act</td>\n",
       "      <td>2010</td>\n",
       "      <td>Documentary</td>\n",
       "      <td>7.5</td>\n",
       "      <td>297.0</td>\n",
       "    </tr>\n",
       "    <tr>\n",
       "      <th>68788</th>\n",
       "      <td>tt4030502</td>\n",
       "      <td>Sorria, Você Está Sendo Filmado</td>\n",
       "      <td>2014</td>\n",
       "      <td>Comedy</td>\n",
       "      <td>5.1</td>\n",
       "      <td>77.0</td>\n",
       "    </tr>\n",
       "  </tbody>\n",
       "</table>\n",
       "</div>"
      ],
      "text/plain": [
       "          tconst                    primary_title  start_year  \\\n",
       "83747  tt4976628                        Fool Moon        2016   \n",
       "49593  tt3018596                      Nietzermann        2015   \n",
       "34401  tt2303278              Baseball Chronicles        2010   \n",
       "5688   tt1262958                      A Small Act        2010   \n",
       "68788  tt4030502  Sorria, Você Está Sendo Filmado        2014   \n",
       "\n",
       "                             genres  averagerating  numvotes  \n",
       "83747                  Comedy,Drama            5.3      62.0  \n",
       "49593  Documentary,Mystery,Thriller            7.4      42.0  \n",
       "34401                   Documentary            5.3      13.0  \n",
       "5688                    Documentary            7.5     297.0  \n",
       "68788                        Comedy            5.1      77.0  "
      ]
     },
     "execution_count": 17,
     "metadata": {},
     "output_type": "execute_result"
    }
   ],
   "source": [
    "# highlight a sample of the data set to use on the analysis\n",
    "movies.sample(5)"
   ]
  },
  {
   "cell_type": "code",
   "execution_count": 66,
   "id": "e3b3aaa3",
   "metadata": {},
   "outputs": [
    {
     "name": "stdout",
     "output_type": "stream",
     "text": [
      "Genre Counts:\n",
      "Drama          30788\n",
      "Documentary    17753\n",
      "Comedy         17290\n",
      "Thriller        8217\n",
      "Horror          7674\n",
      "Action          6988\n",
      "Romance         6589\n",
      "Crime           4611\n",
      "Adventure       3817\n",
      "Biography       3809\n",
      "Family          3412\n",
      "Mystery         3039\n",
      "History         2825\n",
      "Sci-Fi          2206\n",
      "Fantasy         2126\n",
      "Music           1968\n",
      "Animation       1743\n",
      "Sport           1179\n",
      "War              853\n",
      "Musical          721\n",
      "News             579\n",
      "Western          280\n",
      "Reality-TV        17\n",
      "Adult              3\n",
      "Game-Show          2\n",
      "Short              1\n",
      "Name: count, dtype: int64\n"
     ]
    }
   ],
   "source": [
    "# in the above value count we have a length of 923 genre types and this is because different genres have been combined thus\n",
    "# Split the genres column and create a list of genres for each movie\n",
    "movies['genres'] = movies['genres'].str.split(',')\n",
    "\n",
    "# Create a list of all genres in the dataset\n",
    "all_genres = [genre for genres in movies['genres'] for genre in genres]\n",
    "\n",
    "# Count the frequency of each genre\n",
    "genre_counts = pd.Series(all_genres).value_counts()\n",
    "\n",
    "# Print the genre counts\n",
    "print(\"Genre Counts:\")\n",
    "print(genre_counts)\n",
    "# the drama genre is still leading type of movie followed by drama,documentary and comedy"
   ]
  },
  {
   "cell_type": "code",
   "execution_count": 18,
   "id": "cba4f543",
   "metadata": {},
   "outputs": [
    {
     "data": {
      "text/plain": [
       "(73052, 6)"
      ]
     },
     "execution_count": 18,
     "metadata": {},
     "output_type": "execute_result"
    }
   ],
   "source": [
    "# Getting the shape of the cleaned movie data set\n",
    "movies.shape"
   ]
  },
  {
   "cell_type": "code",
   "execution_count": 19,
   "id": "b97c040e",
   "metadata": {},
   "outputs": [
    {
     "data": {
      "text/plain": [
       "averagerating\n",
       "7.0     2229\n",
       "6.6     2221\n",
       "7.2     2217\n",
       "6.8     2216\n",
       "6.5     2205\n",
       "        ... \n",
       "9.6       18\n",
       "10.0      16\n",
       "9.8       15\n",
       "9.7       12\n",
       "9.9        5\n",
       "Name: count, Length: 91, dtype: int64"
      ]
     },
     "execution_count": 19,
     "metadata": {},
     "output_type": "execute_result"
    }
   ],
   "source": [
    "# getting the frequency of each rating the results show most movies had a rating of 7\n",
    "movies['averagerating'].value_counts()"
   ]
  },
  {
   "cell_type": "code",
   "execution_count": 20,
   "id": "e90f882c",
   "metadata": {},
   "outputs": [
    {
     "data": {
      "text/plain": [
       "0    7.0\n",
       "Name: averagerating, dtype: float64"
      ]
     },
     "execution_count": 20,
     "metadata": {},
     "output_type": "execute_result"
    }
   ],
   "source": [
    "# confirming the frequency above to see if it equals the mode and it does 7 was the most rating given\n",
    "movies['averagerating'].mode()"
   ]
  },
  {
   "cell_type": "code",
   "execution_count": 61,
   "id": "181613a5",
   "metadata": {},
   "outputs": [
    {
     "data": {
      "text/plain": [
       "count    73052.000000\n",
       "mean         6.330930\n",
       "std          1.474699\n",
       "min          1.000000\n",
       "25%          5.500000\n",
       "50%          6.500000\n",
       "75%          7.400000\n",
       "max         10.000000\n",
       "Name: averagerating, dtype: float64"
      ]
     },
     "execution_count": 61,
     "metadata": {},
     "output_type": "execute_result"
    }
   ],
   "source": [
    "# Summary statistics of averagerating\n",
    "movies['averagerating'].describe()"
   ]
  },
  {
   "cell_type": "code",
   "execution_count": 21,
   "id": "83a64831",
   "metadata": {},
   "outputs": [
    {
     "data": {
      "text/html": [
       "<div>\n",
       "<style scoped>\n",
       "    .dataframe tbody tr th:only-of-type {\n",
       "        vertical-align: middle;\n",
       "    }\n",
       "\n",
       "    .dataframe tbody tr th {\n",
       "        vertical-align: top;\n",
       "    }\n",
       "\n",
       "    .dataframe thead th {\n",
       "        text-align: right;\n",
       "    }\n",
       "</style>\n",
       "<table border=\"1\" class=\"dataframe\">\n",
       "  <thead>\n",
       "    <tr style=\"text-align: right;\">\n",
       "      <th></th>\n",
       "      <th>tconst</th>\n",
       "      <th>primary_title</th>\n",
       "      <th>start_year</th>\n",
       "      <th>genres</th>\n",
       "      <th>averagerating</th>\n",
       "      <th>numvotes</th>\n",
       "    </tr>\n",
       "  </thead>\n",
       "  <tbody>\n",
       "    <tr>\n",
       "      <th>6537</th>\n",
       "      <td>tt1375666</td>\n",
       "      <td>Inception</td>\n",
       "      <td>2010</td>\n",
       "      <td>Action,Adventure,Sci-Fi</td>\n",
       "      <td>8.8</td>\n",
       "      <td>1841066.0</td>\n",
       "    </tr>\n",
       "    <tr>\n",
       "      <th>6371</th>\n",
       "      <td>tt1345836</td>\n",
       "      <td>The Dark Knight Rises</td>\n",
       "      <td>2012</td>\n",
       "      <td>Action,Thriller</td>\n",
       "      <td>8.4</td>\n",
       "      <td>1387769.0</td>\n",
       "    </tr>\n",
       "    <tr>\n",
       "      <th>305</th>\n",
       "      <td>tt0816692</td>\n",
       "      <td>Interstellar</td>\n",
       "      <td>2014</td>\n",
       "      <td>Adventure,Drama,Sci-Fi</td>\n",
       "      <td>8.6</td>\n",
       "      <td>1299334.0</td>\n",
       "    </tr>\n",
       "    <tr>\n",
       "      <th>19598</th>\n",
       "      <td>tt1853728</td>\n",
       "      <td>Django Unchained</td>\n",
       "      <td>2012</td>\n",
       "      <td>Drama,Western</td>\n",
       "      <td>8.4</td>\n",
       "      <td>1211405.0</td>\n",
       "    </tr>\n",
       "    <tr>\n",
       "      <th>350</th>\n",
       "      <td>tt0848228</td>\n",
       "      <td>The Avengers</td>\n",
       "      <td>2012</td>\n",
       "      <td>Action,Adventure,Sci-Fi</td>\n",
       "      <td>8.1</td>\n",
       "      <td>1183655.0</td>\n",
       "    </tr>\n",
       "    <tr>\n",
       "      <th>...</th>\n",
       "      <td>...</td>\n",
       "      <td>...</td>\n",
       "      <td>...</td>\n",
       "      <td>...</td>\n",
       "      <td>...</td>\n",
       "      <td>...</td>\n",
       "    </tr>\n",
       "    <tr>\n",
       "      <th>57250</th>\n",
       "      <td>tt3417906</td>\n",
       "      <td>The Nose</td>\n",
       "      <td>2013</td>\n",
       "      <td>Documentary</td>\n",
       "      <td>8.6</td>\n",
       "      <td>5.0</td>\n",
       "    </tr>\n",
       "    <tr>\n",
       "      <th>91339</th>\n",
       "      <td>tt5465608</td>\n",
       "      <td>Extramaterial</td>\n",
       "      <td>2016</td>\n",
       "      <td>Documentary</td>\n",
       "      <td>6.6</td>\n",
       "      <td>5.0</td>\n",
       "    </tr>\n",
       "    <tr>\n",
       "      <th>79343</th>\n",
       "      <td>tt4681636</td>\n",
       "      <td>Free Spaces</td>\n",
       "      <td>2015</td>\n",
       "      <td>Documentary</td>\n",
       "      <td>9.0</td>\n",
       "      <td>5.0</td>\n",
       "    </tr>\n",
       "    <tr>\n",
       "      <th>47655</th>\n",
       "      <td>tt2915328</td>\n",
       "      <td>Abou Al Oureef</td>\n",
       "      <td>2014</td>\n",
       "      <td>Comedy</td>\n",
       "      <td>5.2</td>\n",
       "      <td>5.0</td>\n",
       "    </tr>\n",
       "    <tr>\n",
       "      <th>90498</th>\n",
       "      <td>tt5374392</td>\n",
       "      <td>Body Farm</td>\n",
       "      <td>2018</td>\n",
       "      <td>Horror</td>\n",
       "      <td>9.0</td>\n",
       "      <td>5.0</td>\n",
       "    </tr>\n",
       "  </tbody>\n",
       "</table>\n",
       "<p>73052 rows × 6 columns</p>\n",
       "</div>"
      ],
      "text/plain": [
       "          tconst          primary_title  start_year                   genres  \\\n",
       "6537   tt1375666              Inception        2010  Action,Adventure,Sci-Fi   \n",
       "6371   tt1345836  The Dark Knight Rises        2012          Action,Thriller   \n",
       "305    tt0816692           Interstellar        2014   Adventure,Drama,Sci-Fi   \n",
       "19598  tt1853728       Django Unchained        2012            Drama,Western   \n",
       "350    tt0848228           The Avengers        2012  Action,Adventure,Sci-Fi   \n",
       "...          ...                    ...         ...                      ...   \n",
       "57250  tt3417906               The Nose        2013              Documentary   \n",
       "91339  tt5465608          Extramaterial        2016              Documentary   \n",
       "79343  tt4681636            Free Spaces        2015              Documentary   \n",
       "47655  tt2915328         Abou Al Oureef        2014                   Comedy   \n",
       "90498  tt5374392              Body Farm        2018                   Horror   \n",
       "\n",
       "       averagerating   numvotes  \n",
       "6537             8.8  1841066.0  \n",
       "6371             8.4  1387769.0  \n",
       "305              8.6  1299334.0  \n",
       "19598            8.4  1211405.0  \n",
       "350              8.1  1183655.0  \n",
       "...              ...        ...  \n",
       "57250            8.6        5.0  \n",
       "91339            6.6        5.0  \n",
       "79343            9.0        5.0  \n",
       "47655            5.2        5.0  \n",
       "90498            9.0        5.0  \n",
       "\n",
       "[73052 rows x 6 columns]"
      ]
     },
     "execution_count": 21,
     "metadata": {},
     "output_type": "execute_result"
    }
   ],
   "source": [
    "#in the movies dataset the data hasnt been well arranged therefore i will create another dataframe that has movies listed from the one with the highest numvotes \n",
    "# Sort the DataFrame by 'numvotes' in descending order\n",
    "sorted_movies = movies.sort_values(by='numvotes', ascending=False)\n",
    "\n",
    "# This data set shows the highest number of votes to the least and from obervation it \n",
    "# looks that there is no relation between numvotes and average rating beacuse the bodyfarm had \n",
    "# a rating of 9 which is higher than inception 8.8 but managed to get only five votes\n",
    "movies_sorted_highest_numvotes = sorted_movies\n",
    "movies_sorted_highest_numvotes\n",
    "# create a data set that has movies with numvotes above 500k to have a conclusive analysis "
   ]
  },
  {
   "cell_type": "code",
   "execution_count": 22,
   "id": "beb6e4ef",
   "metadata": {},
   "outputs": [
    {
     "data": {
      "text/html": [
       "<div>\n",
       "<style scoped>\n",
       "    .dataframe tbody tr th:only-of-type {\n",
       "        vertical-align: middle;\n",
       "    }\n",
       "\n",
       "    .dataframe tbody tr th {\n",
       "        vertical-align: top;\n",
       "    }\n",
       "\n",
       "    .dataframe thead th {\n",
       "        text-align: right;\n",
       "    }\n",
       "</style>\n",
       "<table border=\"1\" class=\"dataframe\">\n",
       "  <thead>\n",
       "    <tr style=\"text-align: right;\">\n",
       "      <th></th>\n",
       "      <th>tconst</th>\n",
       "      <th>primary_title</th>\n",
       "      <th>start_year</th>\n",
       "      <th>genres</th>\n",
       "      <th>averagerating</th>\n",
       "      <th>numvotes</th>\n",
       "    </tr>\n",
       "  </thead>\n",
       "  <tbody>\n",
       "    <tr>\n",
       "      <th>6537</th>\n",
       "      <td>tt1375666</td>\n",
       "      <td>Inception</td>\n",
       "      <td>2010</td>\n",
       "      <td>Action,Adventure,Sci-Fi</td>\n",
       "      <td>8.8</td>\n",
       "      <td>1841066.0</td>\n",
       "    </tr>\n",
       "    <tr>\n",
       "      <th>6371</th>\n",
       "      <td>tt1345836</td>\n",
       "      <td>The Dark Knight Rises</td>\n",
       "      <td>2012</td>\n",
       "      <td>Action,Thriller</td>\n",
       "      <td>8.4</td>\n",
       "      <td>1387769.0</td>\n",
       "    </tr>\n",
       "    <tr>\n",
       "      <th>305</th>\n",
       "      <td>tt0816692</td>\n",
       "      <td>Interstellar</td>\n",
       "      <td>2014</td>\n",
       "      <td>Adventure,Drama,Sci-Fi</td>\n",
       "      <td>8.6</td>\n",
       "      <td>1299334.0</td>\n",
       "    </tr>\n",
       "    <tr>\n",
       "      <th>19598</th>\n",
       "      <td>tt1853728</td>\n",
       "      <td>Django Unchained</td>\n",
       "      <td>2012</td>\n",
       "      <td>Drama,Western</td>\n",
       "      <td>8.4</td>\n",
       "      <td>1211405.0</td>\n",
       "    </tr>\n",
       "    <tr>\n",
       "      <th>350</th>\n",
       "      <td>tt0848228</td>\n",
       "      <td>The Avengers</td>\n",
       "      <td>2012</td>\n",
       "      <td>Action,Adventure,Sci-Fi</td>\n",
       "      <td>8.1</td>\n",
       "      <td>1183655.0</td>\n",
       "    </tr>\n",
       "    <tr>\n",
       "      <th>...</th>\n",
       "      <td>...</td>\n",
       "      <td>...</td>\n",
       "      <td>...</td>\n",
       "      <td>...</td>\n",
       "      <td>...</td>\n",
       "      <td>...</td>\n",
       "    </tr>\n",
       "    <tr>\n",
       "      <th>18339</th>\n",
       "      <td>tt1825683</td>\n",
       "      <td>Black Panther</td>\n",
       "      <td>2018</td>\n",
       "      <td>Action,Adventure,Sci-Fi</td>\n",
       "      <td>7.3</td>\n",
       "      <td>516148.0</td>\n",
       "    </tr>\n",
       "    <tr>\n",
       "      <th>41265</th>\n",
       "      <td>tt2543164</td>\n",
       "      <td>Arrival</td>\n",
       "      <td>2016</td>\n",
       "      <td>Drama,Mystery,Sci-Fi</td>\n",
       "      <td>7.9</td>\n",
       "      <td>515483.0</td>\n",
       "    </tr>\n",
       "    <tr>\n",
       "      <th>5375</th>\n",
       "      <td>tt1211837</td>\n",
       "      <td>Doctor Strange</td>\n",
       "      <td>2016</td>\n",
       "      <td>Action,Adventure,Fantasy</td>\n",
       "      <td>7.5</td>\n",
       "      <td>514510.0</td>\n",
       "    </tr>\n",
       "    <tr>\n",
       "      <th>184</th>\n",
       "      <td>tt0478970</td>\n",
       "      <td>Ant-Man</td>\n",
       "      <td>2015</td>\n",
       "      <td>Action,Adventure,Comedy</td>\n",
       "      <td>7.3</td>\n",
       "      <td>501213.0</td>\n",
       "    </tr>\n",
       "    <tr>\n",
       "      <th>5772</th>\n",
       "      <td>tt1276104</td>\n",
       "      <td>Looper</td>\n",
       "      <td>2012</td>\n",
       "      <td>Action,Crime,Drama</td>\n",
       "      <td>7.4</td>\n",
       "      <td>500595.0</td>\n",
       "    </tr>\n",
       "  </tbody>\n",
       "</table>\n",
       "<p>67 rows × 6 columns</p>\n",
       "</div>"
      ],
      "text/plain": [
       "          tconst          primary_title  start_year                    genres  \\\n",
       "6537   tt1375666              Inception        2010   Action,Adventure,Sci-Fi   \n",
       "6371   tt1345836  The Dark Knight Rises        2012           Action,Thriller   \n",
       "305    tt0816692           Interstellar        2014    Adventure,Drama,Sci-Fi   \n",
       "19598  tt1853728       Django Unchained        2012             Drama,Western   \n",
       "350    tt0848228           The Avengers        2012   Action,Adventure,Sci-Fi   \n",
       "...          ...                    ...         ...                       ...   \n",
       "18339  tt1825683          Black Panther        2018   Action,Adventure,Sci-Fi   \n",
       "41265  tt2543164                Arrival        2016      Drama,Mystery,Sci-Fi   \n",
       "5375   tt1211837         Doctor Strange        2016  Action,Adventure,Fantasy   \n",
       "184    tt0478970                Ant-Man        2015   Action,Adventure,Comedy   \n",
       "5772   tt1276104                 Looper        2012        Action,Crime,Drama   \n",
       "\n",
       "       averagerating   numvotes  \n",
       "6537             8.8  1841066.0  \n",
       "6371             8.4  1387769.0  \n",
       "305              8.6  1299334.0  \n",
       "19598            8.4  1211405.0  \n",
       "350              8.1  1183655.0  \n",
       "...              ...        ...  \n",
       "18339            7.3   516148.0  \n",
       "41265            7.9   515483.0  \n",
       "5375             7.5   514510.0  \n",
       "184              7.3   501213.0  \n",
       "5772             7.4   500595.0  \n",
       "\n",
       "[67 rows x 6 columns]"
      ]
     },
     "execution_count": 22,
     "metadata": {},
     "output_type": "execute_result"
    }
   ],
   "source": [
    "# Filter my DataFrame to retain only movies with numvotes greater than 500k \n",
    "movies_filtered = movies_sorted_highest_numvotes[movies_sorted_highest_numvotes['numvotes'] > 500000]\n",
    "\n",
    "# Sort the filtered DataFrame by numvotes in descending order\n",
    "movies_filtered_sorted = movies_filtered.sort_values(by='numvotes', ascending=False)\n",
    "movies_filtered_sorted\n",
    "\n",
    "# Now, df_filtered_sorted contains movies with numvotes > 500k, sorted by numvotes in descending order\n",
    "# \"Inception\" stands out as the highest-rated movie with a rating of 8.8 and the most votes (1,841,066). \n",
    "# It is an example of a movie that combines the \"Action,\" \"Adventure,\" and \"Sci-Fi\" genres, which have broad audience appeal.\n"
   ]
  },
  {
   "cell_type": "code",
   "execution_count": 23,
   "id": "b331e062",
   "metadata": {},
   "outputs": [
    {
     "data": {
      "text/html": [
       "<div>\n",
       "<style scoped>\n",
       "    .dataframe tbody tr th:only-of-type {\n",
       "        vertical-align: middle;\n",
       "    }\n",
       "\n",
       "    .dataframe tbody tr th {\n",
       "        vertical-align: top;\n",
       "    }\n",
       "\n",
       "    .dataframe thead th {\n",
       "        text-align: right;\n",
       "    }\n",
       "</style>\n",
       "<table border=\"1\" class=\"dataframe\">\n",
       "  <thead>\n",
       "    <tr style=\"text-align: right;\">\n",
       "      <th></th>\n",
       "      <th>start_year</th>\n",
       "      <th>averagerating</th>\n",
       "      <th>numvotes</th>\n",
       "    </tr>\n",
       "  </thead>\n",
       "  <tbody>\n",
       "    <tr>\n",
       "      <th>count</th>\n",
       "      <td>67.000000</td>\n",
       "      <td>67.000000</td>\n",
       "      <td>6.700000e+01</td>\n",
       "    </tr>\n",
       "    <tr>\n",
       "      <th>mean</th>\n",
       "      <td>2013.149254</td>\n",
       "      <td>7.728358</td>\n",
       "      <td>6.838535e+05</td>\n",
       "    </tr>\n",
       "    <tr>\n",
       "      <th>std</th>\n",
       "      <td>2.024499</td>\n",
       "      <td>0.540988</td>\n",
       "      <td>2.389190e+05</td>\n",
       "    </tr>\n",
       "    <tr>\n",
       "      <th>min</th>\n",
       "      <td>2010.000000</td>\n",
       "      <td>6.000000</td>\n",
       "      <td>5.005950e+05</td>\n",
       "    </tr>\n",
       "    <tr>\n",
       "      <th>25%</th>\n",
       "      <td>2012.000000</td>\n",
       "      <td>7.300000</td>\n",
       "      <td>5.401670e+05</td>\n",
       "    </tr>\n",
       "    <tr>\n",
       "      <th>50%</th>\n",
       "      <td>2013.000000</td>\n",
       "      <td>7.800000</td>\n",
       "      <td>6.169160e+05</td>\n",
       "    </tr>\n",
       "    <tr>\n",
       "      <th>75%</th>\n",
       "      <td>2014.500000</td>\n",
       "      <td>8.100000</td>\n",
       "      <td>6.875495e+05</td>\n",
       "    </tr>\n",
       "    <tr>\n",
       "      <th>max</th>\n",
       "      <td>2018.000000</td>\n",
       "      <td>8.800000</td>\n",
       "      <td>1.841066e+06</td>\n",
       "    </tr>\n",
       "  </tbody>\n",
       "</table>\n",
       "</div>"
      ],
      "text/plain": [
       "        start_year  averagerating      numvotes\n",
       "count    67.000000      67.000000  6.700000e+01\n",
       "mean   2013.149254       7.728358  6.838535e+05\n",
       "std       2.024499       0.540988  2.389190e+05\n",
       "min    2010.000000       6.000000  5.005950e+05\n",
       "25%    2012.000000       7.300000  5.401670e+05\n",
       "50%    2013.000000       7.800000  6.169160e+05\n",
       "75%    2014.500000       8.100000  6.875495e+05\n",
       "max    2018.000000       8.800000  1.841066e+06"
      ]
     },
     "execution_count": 23,
     "metadata": {},
     "output_type": "execute_result"
    }
   ],
   "source": [
    "movies_filtered_sorted.describe()\n",
    "# The genres is an object type and does not work with the describe function\n",
    "# The data set has a count of 67 rows which shows in the results for start_year,averagerating,numvotes\n",
    "# MEAN:this gives the average value,start_year =2013,averagerating =7.7,numvotes =683,853\n",
    "# STD:standard deviation is the measure of spread from the mean meaning in start_year =2 thus the realse years vary by2,averagerating has low std of 0.5\n",
    "# MIN:this shows the least value in the column,start_year shows the earliest movie was released in 2010,averagerating lowestrating is 6,minimum numvotes =500,595\n",
    "# MAX:this shows the highest value in the column,start_year latest movie was released in 2018,maximum averagerating =8.8,numvotes =1,841,066."
   ]
  },
  {
   "cell_type": "code",
   "execution_count": 25,
   "id": "36a7ec02",
   "metadata": {},
   "outputs": [
    {
     "data": {
      "image/png": "[encoded data removed]",
      "text/plain": [
       "<Figure size 640x480 with 1 Axes>"
      ]
     },
     "metadata": {},
     "output_type": "display_data"
    }
   ],
   "source": [
    "movies_filtered_sorted.plot();"
   ]
  },
  {
   "cell_type": "code",
   "execution_count": 26,
   "id": "418259bb",
   "metadata": {
    "scrolled": true
   },
   "outputs": [
    {
     "data": {
      "image/png": "[encoded data removed]",
      "text/plain": [
       "<Figure size 640x480 with 1 Axes>"
      ]
     },
     "metadata": {},
     "output_type": "display_data"
    }
   ],
   "source": [
    "# Create a scatter plot to explore the relationship between ratings and the number of votes. This can help you understand if there is a correlation between these two variables\n",
    "movies_filtered_sorted.plot('averagerating', 'numvotes', kind='scatter');"
   ]
  },
  {
   "cell_type": "code",
   "execution_count": 29,
   "id": "b5a7fdc2",
   "metadata": {
    "scrolled": true
   },
   "outputs": [
    {
     "data": {
      "text/plain": [
       "genres\n",
       "Action,Adventure,Sci-Fi       18\n",
       "Action,Adventure,Fantasy       6\n",
       "Action,Adventure,Comedy        4\n",
       "Adventure,Animation,Comedy     3\n",
       "Biography,Drama,History        2\n",
       "Adventure,Drama,Fantasy        2\n",
       "Biography,Drama,Thriller       2\n",
       "Adventure,Drama,Sci-Fi         2\n",
       "Action,Adventure,Thriller      1\n",
       "Drama,Mystery,Sci-Fi           1\n",
       "Comedy,Drama                   1\n",
       "Crime,Drama                    1\n",
       "Crime,Drama,Mystery            1\n",
       "Comedy,Fantasy                 1\n",
       "Adventure,Mystery,Sci-Fi       1\n",
       "Action,Sci-Fi                  1\n",
       "Crime,Mystery,Thriller         1\n",
       "Action,Adventure,Horror        1\n",
       "Action,Drama,Sci-Fi            1\n",
       "Adventure,Fantasy              1\n",
       "Biography,Drama                1\n",
       "Mystery,Thriller               1\n",
       "Drama,Mystery,Thriller         1\n",
       "Action,Adventure,Animation     1\n",
       "Drama,Music                    1\n",
       "Action,Thriller                1\n",
       "Comedy,Drama,Romance           1\n",
       "Action,Adventure,Biography     1\n",
       "Adventure,Comedy,Crime         1\n",
       "Drama,Thriller                 1\n",
       "Biography,Comedy,Drama         1\n",
       "Drama,Western                  1\n",
       "Biography,Crime,Drama          1\n",
       "Drama,Sci-Fi,Thriller          1\n",
       "Adventure,Family,Fantasy       1\n",
       "Action,Crime,Drama             1\n",
       "Name: count, dtype: int64"
      ]
     },
     "execution_count": 29,
     "metadata": {},
     "output_type": "execute_result"
    }
   ],
   "source": [
    "allgenres = movies_filtered_sorted['genres'].value_counts()\n",
    "allgenres"
   ]
  },
  {
   "cell_type": "code",
   "execution_count": 37,
   "id": "d26458e9",
   "metadata": {
    "scrolled": true
   },
   "outputs": [
    {
     "data": {
      "image/png": "[encoded data removed]",
      "text/plain": [
       "<Figure size 640x480 with 1 Axes>"
      ]
     },
     "metadata": {},
     "output_type": "display_data"
    }
   ],
   "source": [
    "# box plot using genere and rating\n",
    "movies_filtered_sorted.plot('genres', 'averagerating', kind='box');"
   ]
  },
  {
   "cell_type": "markdown",
   "id": "6cba2f5f",
   "metadata": {},
   "source": [
    "Analysis"
   ]
  },
  {
   "cell_type": "markdown",
   "id": "ed690eca",
   "metadata": {},
   "source": [
    "Bar Chart for Yearly Movie Counts:\n",
    "\n",
    "Create a bar chart to visualize the number of movies released each year. This can help you understand the distribution of movies over time.\n"
   ]
  },
  {
   "cell_type": "code",
   "execution_count": 40,
   "id": "bd31b7d3",
   "metadata": {},
   "outputs": [
    {
     "data": {
      "image/png": "[encoded data removed]",
      "text/plain": [
       "<Figure size 640x480 with 1 Axes>"
      ]
     },
     "metadata": {},
     "output_type": "display_data"
    }
   ],
   "source": [
    "# movies_filtered_sorted.plot.hist('');\n",
    "# kind='scatter');\n",
    "movies_filtered_sorted.plot('averagerating', kind='hist');"
   ]
  },
  {
   "cell_type": "code",
   "execution_count": 42,
   "id": "36d3afd2",
   "metadata": {},
   "outputs": [],
   "source": [
    "import matplotlib.pyplot as plt\n",
    "%matplotlib inline"
   ]
  },
  {
   "cell_type": "code",
   "execution_count": 44,
   "id": "623ec4db",
   "metadata": {},
   "outputs": [],
   "source": [
    "# Count the number of movies per year\n",
    "yearly_movie_counts = movies_filtered_sorted['start_year'].value_counts().sort_index()\n"
   ]
  },
  {
   "cell_type": "code",
   "execution_count": 45,
   "id": "8c29b93f",
   "metadata": {},
   "outputs": [
    {
     "data": {
      "image/png": "[encoded data removed]",
      "text/plain": [
       "<Figure size 800x600 with 1 Axes>"
      ]
     },
     "metadata": {},
     "output_type": "display_data"
    }
   ],
   "source": [
    "plt.figure(figsize=(8,6))\n",
    "\n",
    "plt.plot(yearly_movie_counts.index, yearly_movie_counts.values,)\n",
    "\n",
    "plt.xlabel('Year')\n",
    "plt.ylabel('No of Movies')\n",
    "\n",
    "plt.title('Number of movies per year')\n",
    "\n",
    "plt.show()"
   ]
  },
  {
   "cell_type": "code",
   "execution_count": 58,
   "id": "2a0261a0",
   "metadata": {},
   "outputs": [
    {
     "ename": "TypeError",
     "evalue": "'module' object is not callable",
     "output_type": "error",
     "traceback": [
      "\u001b[1;31m---------------------------------------------------------------------------\u001b[0m",
      "\u001b[1;31mTypeError\u001b[0m                                 Traceback (most recent call last)",
      "Cell \u001b[1;32mIn[58], line 2\u001b[0m\n\u001b[0;32m      1\u001b[0m \u001b[38;5;66;03m# Create a scatter plot\u001b[39;00m\n\u001b[1;32m----> 2\u001b[0m plt\u001b[38;5;241m.\u001b[39mfigure(figsize\u001b[38;5;241m=\u001b[39m(\u001b[38;5;241m10\u001b[39m, \u001b[38;5;241m6\u001b[39m))\n\u001b[0;32m      3\u001b[0m plt\u001b[38;5;241m.\u001b[39mscatter(filtered_movies[\u001b[38;5;124m'\u001b[39m\u001b[38;5;124maveragerating\u001b[39m\u001b[38;5;124m'\u001b[39m], filtered_movies[\u001b[38;5;124m'\u001b[39m\u001b[38;5;124mnumvotes\u001b[39m\u001b[38;5;124m'\u001b[39m],)\n\u001b[0;32m      4\u001b[0m plt\u001b[38;5;241m.\u001b[39mxlabel(\u001b[38;5;124m'\u001b[39m\u001b[38;5;124mAverage Rating\u001b[39m\u001b[38;5;124m'\u001b[39m)\n",
      "\u001b[1;31mTypeError\u001b[0m: 'module' object is not callable"
     ]
    }
   ],
   "source": [
    "# Create a scatter plot\n",
    "plt.figure(figsize=(10, 6))\n",
    "plt.scatter(filtered_movies['averagerating'], filtered_movies['numvotes'],)\n",
    "plt.xlabel('Average Rating')\n",
    "plt.ylabel('Number of Votes')\n",
    "plt.title('Scatter Plot: Average Rating vs. Number of Votes')\n",
    "plt.grid(True)"
   ]
  },
  {
   "cell_type": "code",
   "execution_count": null,
   "id": "68f50e03",
   "metadata": {},
   "outputs": [],
   "source": []
  },
  {
   "cell_type": "code",
   "execution_count": 71,
   "id": "f259dd6d",
   "metadata": {},
   "outputs": [
    {
     "data": {
      "text/plain": [
       "(73052, 6)"
      ]
     },
     "execution_count": 71,
     "metadata": {},
     "output_type": "execute_result"
    }
   ],
   "source": [
    "movies.shape"
   ]
  },
  {
   "cell_type": "code",
   "execution_count": 76,
   "id": "5f984b33",
   "metadata": {},
   "outputs": [],
   "source": [
    "# Example of filtering data using Pandas\n",
    "filtered_movies = movies[movies['averagerating'] >= 5,[movies['numvotes'] >]  "
   ]
  },
  {
   "cell_type": "code",
   "execution_count": 79,
   "id": "f4d67743",
   "metadata": {},
   "outputs": [
    {
     "data": {
      "image/png": "[encoded data removed]",
      "text/plain": [
       "<Figure size 1000x600 with 1 Axes>"
      ]
     },
     "metadata": {},
     "output_type": "display_data"
    }
   ],
   "source": [
    "# Create a scatter plot\n",
    "plt.figure(figsize=(10, 6))\n",
    "plt.scatter(filtered_movies['averagerating'], filtered_movies['numvotes'],)\n",
    "plt.xlabel('Average Rating')\n",
    "plt.ylabel('Number of Votes')\n",
    "plt.title('Scatter Plot: Average Rating vs. Number of Votes')\n",
    "plt.grid(True)"
   ]
  },
  {
   "cell_type": "code",
   "execution_count": null,
   "id": "06b11b1f",
   "metadata": {},
   "outputs": [],
   "source": []
  },
  {
   "cell_type": "code",
   "execution_count": null,
   "id": "6278caf6",
   "metadata": {},
   "outputs": [],
   "source": []
  },
  {
   "cell_type": "code",
   "execution_count": 109,
   "id": "902e6c99",
   "metadata": {},
   "outputs": [
    {
     "data": {
      "text/html": [
       "<div>\n",
       "<style scoped>\n",
       "    .dataframe tbody tr th:only-of-type {\n",
       "        vertical-align: middle;\n",
       "    }\n",
       "\n",
       "    .dataframe tbody tr th {\n",
       "        vertical-align: top;\n",
       "    }\n",
       "\n",
       "    .dataframe thead th {\n",
       "        text-align: right;\n",
       "    }\n",
       "</style>\n",
       "<table border=\"1\" class=\"dataframe\">\n",
       "  <thead>\n",
       "    <tr style=\"text-align: right;\">\n",
       "      <th></th>\n",
       "      <th>title</th>\n",
       "      <th>studio</th>\n",
       "      <th>domestic_gross</th>\n",
       "      <th>foreign_gross</th>\n",
       "      <th>year</th>\n",
       "    </tr>\n",
       "  </thead>\n",
       "  <tbody>\n",
       "    <tr>\n",
       "      <th>0</th>\n",
       "      <td>Toy Story 3</td>\n",
       "      <td>BV</td>\n",
       "      <td>415000000.0</td>\n",
       "      <td>652000000</td>\n",
       "      <td>2010</td>\n",
       "    </tr>\n",
       "    <tr>\n",
       "      <th>1</th>\n",
       "      <td>Alice in Wonderland (2010)</td>\n",
       "      <td>BV</td>\n",
       "      <td>334200000.0</td>\n",
       "      <td>691300000</td>\n",
       "      <td>2010</td>\n",
       "    </tr>\n",
       "    <tr>\n",
       "      <th>2</th>\n",
       "      <td>Harry Potter and the Deathly Hallows Part 1</td>\n",
       "      <td>WB</td>\n",
       "      <td>296000000.0</td>\n",
       "      <td>664300000</td>\n",
       "      <td>2010</td>\n",
       "    </tr>\n",
       "  </tbody>\n",
       "</table>\n",
       "</div>"
      ],
      "text/plain": [
       "                                         title studio  domestic_gross  \\\n",
       "0                                  Toy Story 3     BV     415000000.0   \n",
       "1                   Alice in Wonderland (2010)     BV     334200000.0   \n",
       "2  Harry Potter and the Deathly Hallows Part 1     WB     296000000.0   \n",
       "\n",
       "  foreign_gross  year  \n",
       "0     652000000  2010  \n",
       "1     691300000  2010  \n",
       "2     664300000  2010  "
      ]
     },
     "execution_count": 109,
     "metadata": {},
     "output_type": "execute_result"
    }
   ],
   "source": [
    "import pandas as pd\n",
    "moviegross = pd.read_csv(\"bom.movie_gross.csv.gz\")\n",
    "moviegross.head(3)"
   ]
  },
  {
   "cell_type": "code",
   "execution_count": 115,
   "id": "9b497b1a",
   "metadata": {},
   "outputs": [
    {
     "data": {
      "text/html": [
       "<div>\n",
       "<style scoped>\n",
       "    .dataframe tbody tr th:only-of-type {\n",
       "        vertical-align: middle;\n",
       "    }\n",
       "\n",
       "    .dataframe tbody tr th {\n",
       "        vertical-align: top;\n",
       "    }\n",
       "\n",
       "    .dataframe thead th {\n",
       "        text-align: right;\n",
       "    }\n",
       "</style>\n",
       "<table border=\"1\" class=\"dataframe\">\n",
       "  <thead>\n",
       "    <tr style=\"text-align: right;\">\n",
       "      <th></th>\n",
       "      <th>tconst</th>\n",
       "      <th>primary_title</th>\n",
       "      <th>start_year</th>\n",
       "      <th>genres</th>\n",
       "      <th>averagerating</th>\n",
       "      <th>numvotes</th>\n",
       "      <th>title</th>\n",
       "      <th>studio</th>\n",
       "      <th>domestic_gross</th>\n",
       "      <th>foreign_gross</th>\n",
       "      <th>year</th>\n",
       "    </tr>\n",
       "  </thead>\n",
       "  <tbody>\n",
       "    <tr>\n",
       "      <th>0</th>\n",
       "      <td>tt0435761</td>\n",
       "      <td>Toy Story 3</td>\n",
       "      <td>2010.0</td>\n",
       "      <td>Adventure,Animation,Comedy</td>\n",
       "      <td>8.3</td>\n",
       "      <td>682218.0</td>\n",
       "      <td>Toy Story 3</td>\n",
       "      <td>BV</td>\n",
       "      <td>415000000.0</td>\n",
       "      <td>652000000</td>\n",
       "      <td>2010</td>\n",
       "    </tr>\n",
       "    <tr>\n",
       "      <th>1</th>\n",
       "      <td>NaN</td>\n",
       "      <td>NaN</td>\n",
       "      <td>NaN</td>\n",
       "      <td>NaN</td>\n",
       "      <td>NaN</td>\n",
       "      <td>NaN</td>\n",
       "      <td>Alice in Wonderland (2010)</td>\n",
       "      <td>BV</td>\n",
       "      <td>334200000.0</td>\n",
       "      <td>691300000</td>\n",
       "      <td>2010</td>\n",
       "    </tr>\n",
       "    <tr>\n",
       "      <th>2</th>\n",
       "      <td>NaN</td>\n",
       "      <td>NaN</td>\n",
       "      <td>NaN</td>\n",
       "      <td>NaN</td>\n",
       "      <td>NaN</td>\n",
       "      <td>NaN</td>\n",
       "      <td>Harry Potter and the Deathly Hallows Part 1</td>\n",
       "      <td>WB</td>\n",
       "      <td>296000000.0</td>\n",
       "      <td>664300000</td>\n",
       "      <td>2010</td>\n",
       "    </tr>\n",
       "    <tr>\n",
       "      <th>3</th>\n",
       "      <td>tt1375666</td>\n",
       "      <td>Inception</td>\n",
       "      <td>2010.0</td>\n",
       "      <td>Action,Adventure,Sci-Fi</td>\n",
       "      <td>8.8</td>\n",
       "      <td>1841066.0</td>\n",
       "      <td>Inception</td>\n",
       "      <td>WB</td>\n",
       "      <td>292600000.0</td>\n",
       "      <td>535700000</td>\n",
       "      <td>2010</td>\n",
       "    </tr>\n",
       "    <tr>\n",
       "      <th>4</th>\n",
       "      <td>tt0892791</td>\n",
       "      <td>Shrek Forever After</td>\n",
       "      <td>2010.0</td>\n",
       "      <td>Adventure,Animation,Comedy</td>\n",
       "      <td>6.3</td>\n",
       "      <td>167532.0</td>\n",
       "      <td>Shrek Forever After</td>\n",
       "      <td>P/DW</td>\n",
       "      <td>238700000.0</td>\n",
       "      <td>513900000</td>\n",
       "      <td>2010</td>\n",
       "    </tr>\n",
       "    <tr>\n",
       "      <th>...</th>\n",
       "      <td>...</td>\n",
       "      <td>...</td>\n",
       "      <td>...</td>\n",
       "      <td>...</td>\n",
       "      <td>...</td>\n",
       "      <td>...</td>\n",
       "      <td>...</td>\n",
       "      <td>...</td>\n",
       "      <td>...</td>\n",
       "      <td>...</td>\n",
       "      <td>...</td>\n",
       "    </tr>\n",
       "    <tr>\n",
       "      <th>4102</th>\n",
       "      <td>tt6523720</td>\n",
       "      <td>The Quake</td>\n",
       "      <td>2018.0</td>\n",
       "      <td>Action,Drama,Thriller</td>\n",
       "      <td>6.2</td>\n",
       "      <td>5270.0</td>\n",
       "      <td>The Quake</td>\n",
       "      <td>Magn.</td>\n",
       "      <td>6200.0</td>\n",
       "      <td>NaN</td>\n",
       "      <td>2018</td>\n",
       "    </tr>\n",
       "    <tr>\n",
       "      <th>4103</th>\n",
       "      <td>NaN</td>\n",
       "      <td>NaN</td>\n",
       "      <td>NaN</td>\n",
       "      <td>NaN</td>\n",
       "      <td>NaN</td>\n",
       "      <td>NaN</td>\n",
       "      <td>Edward II (2018 re-release)</td>\n",
       "      <td>FM</td>\n",
       "      <td>4800.0</td>\n",
       "      <td>NaN</td>\n",
       "      <td>2018</td>\n",
       "    </tr>\n",
       "    <tr>\n",
       "      <th>4104</th>\n",
       "      <td>NaN</td>\n",
       "      <td>NaN</td>\n",
       "      <td>NaN</td>\n",
       "      <td>NaN</td>\n",
       "      <td>NaN</td>\n",
       "      <td>NaN</td>\n",
       "      <td>El Pacto</td>\n",
       "      <td>Sony</td>\n",
       "      <td>2500.0</td>\n",
       "      <td>NaN</td>\n",
       "      <td>2018</td>\n",
       "    </tr>\n",
       "    <tr>\n",
       "      <th>4105</th>\n",
       "      <td>NaN</td>\n",
       "      <td>NaN</td>\n",
       "      <td>NaN</td>\n",
       "      <td>NaN</td>\n",
       "      <td>NaN</td>\n",
       "      <td>NaN</td>\n",
       "      <td>The Swan</td>\n",
       "      <td>Synergetic</td>\n",
       "      <td>2400.0</td>\n",
       "      <td>NaN</td>\n",
       "      <td>2018</td>\n",
       "    </tr>\n",
       "    <tr>\n",
       "      <th>4106</th>\n",
       "      <td>tt5718046</td>\n",
       "      <td>An Actor Prepares</td>\n",
       "      <td>2018.0</td>\n",
       "      <td>Comedy</td>\n",
       "      <td>5.0</td>\n",
       "      <td>388.0</td>\n",
       "      <td>An Actor Prepares</td>\n",
       "      <td>Grav.</td>\n",
       "      <td>1700.0</td>\n",
       "      <td>NaN</td>\n",
       "      <td>2018</td>\n",
       "    </tr>\n",
       "  </tbody>\n",
       "</table>\n",
       "<p>4107 rows × 11 columns</p>\n",
       "</div>"
      ],
      "text/plain": [
       "         tconst        primary_title  start_year                      genres  \\\n",
       "0     tt0435761          Toy Story 3      2010.0  Adventure,Animation,Comedy   \n",
       "1           NaN                  NaN         NaN                         NaN   \n",
       "2           NaN                  NaN         NaN                         NaN   \n",
       "3     tt1375666            Inception      2010.0     Action,Adventure,Sci-Fi   \n",
       "4     tt0892791  Shrek Forever After      2010.0  Adventure,Animation,Comedy   \n",
       "...         ...                  ...         ...                         ...   \n",
       "4102  tt6523720            The Quake      2018.0       Action,Drama,Thriller   \n",
       "4103        NaN                  NaN         NaN                         NaN   \n",
       "4104        NaN                  NaN         NaN                         NaN   \n",
       "4105        NaN                  NaN         NaN                         NaN   \n",
       "4106  tt5718046    An Actor Prepares      2018.0                      Comedy   \n",
       "\n",
       "      averagerating   numvotes                                        title  \\\n",
       "0               8.3   682218.0                                  Toy Story 3   \n",
       "1               NaN        NaN                   Alice in Wonderland (2010)   \n",
       "2               NaN        NaN  Harry Potter and the Deathly Hallows Part 1   \n",
       "3               8.8  1841066.0                                    Inception   \n",
       "4               6.3   167532.0                          Shrek Forever After   \n",
       "...             ...        ...                                          ...   \n",
       "4102            6.2     5270.0                                    The Quake   \n",
       "4103            NaN        NaN                  Edward II (2018 re-release)   \n",
       "4104            NaN        NaN                                     El Pacto   \n",
       "4105            NaN        NaN                                     The Swan   \n",
       "4106            5.0      388.0                            An Actor Prepares   \n",
       "\n",
       "          studio  domestic_gross foreign_gross  year  \n",
       "0             BV     415000000.0     652000000  2010  \n",
       "1             BV     334200000.0     691300000  2010  \n",
       "2             WB     296000000.0     664300000  2010  \n",
       "3             WB     292600000.0     535700000  2010  \n",
       "4           P/DW     238700000.0     513900000  2010  \n",
       "...          ...             ...           ...   ...  \n",
       "4102       Magn.          6200.0           NaN  2018  \n",
       "4103          FM          4800.0           NaN  2018  \n",
       "4104        Sony          2500.0           NaN  2018  \n",
       "4105  Synergetic          2400.0           NaN  2018  \n",
       "4106       Grav.          1700.0           NaN  2018  \n",
       "\n",
       "[4107 rows x 11 columns]"
      ]
     },
     "execution_count": 115,
     "metadata": {},
     "output_type": "execute_result"
    }
   ],
   "source": [
    "combined_data = pd.merge(movies, moviegross, left_on=\"primary_title\", right_on=\"title\", how=\"right\")\n",
    "combined_data"
   ]
  },
  {
   "cell_type": "code",
   "execution_count": 29,
   "id": "0f43ee5b",
   "metadata": {},
   "outputs": [
    {
     "name": "stdout",
     "output_type": "stream",
     "text": [
      "<class 'pandas.core.frame.DataFrame'>\n",
      "RangeIndex: 3387 entries, 0 to 3386\n",
      "Data columns (total 5 columns):\n",
      " #   Column          Non-Null Count  Dtype  \n",
      "---  ------          --------------  -----  \n",
      " 0   title           3387 non-null   object \n",
      " 1   studio          3382 non-null   object \n",
      " 2   domestic_gross  3359 non-null   float64\n",
      " 3   foreign_gross   2037 non-null   object \n",
      " 4   year            3387 non-null   int64  \n",
      "dtypes: float64(1), int64(1), object(3)\n",
      "memory usage: 132.4+ KB\n"
     ]
    }
   ],
   "source": [
    "df.info()"
   ]
  },
  {
   "cell_type": "code",
   "execution_count": 43,
   "id": "34a32062",
   "metadata": {},
   "outputs": [
    {
     "data": {
      "text/plain": [
       "count          3387\n",
       "unique         3386\n",
       "top       Bluebeard\n",
       "freq              2\n",
       "Name: title, dtype: object"
      ]
     },
     "execution_count": 43,
     "metadata": {},
     "output_type": "execute_result"
    }
   ],
   "source": [
    "moviegross['title'].describe()"
   ]
  },
  {
   "cell_type": "code",
   "execution_count": 45,
   "id": "6700b6f8",
   "metadata": {},
   "outputs": [
    {
     "data": {
      "text/plain": [
       "936700000.0"
      ]
     },
     "execution_count": 45,
     "metadata": {},
     "output_type": "execute_result"
    }
   ],
   "source": [
    "moviegross['domestic_gross'].max()"
   ]
  },
  {
   "cell_type": "code",
   "execution_count": 31,
   "id": "e0d736a9",
   "metadata": {},
   "outputs": [
    {
     "data": {
      "text/html": [
       "<div>\n",
       "<style scoped>\n",
       "    .dataframe tbody tr th:only-of-type {\n",
       "        vertical-align: middle;\n",
       "    }\n",
       "\n",
       "    .dataframe tbody tr th {\n",
       "        vertical-align: top;\n",
       "    }\n",
       "\n",
       "    .dataframe thead th {\n",
       "        text-align: right;\n",
       "    }\n",
       "</style>\n",
       "<table border=\"1\" class=\"dataframe\">\n",
       "  <thead>\n",
       "    <tr style=\"text-align: right;\">\n",
       "      <th></th>\n",
       "      <th>domestic_gross</th>\n",
       "      <th>year</th>\n",
       "    </tr>\n",
       "  </thead>\n",
       "  <tbody>\n",
       "    <tr>\n",
       "      <th>count</th>\n",
       "      <td>3.359000e+03</td>\n",
       "      <td>3387.000000</td>\n",
       "    </tr>\n",
       "    <tr>\n",
       "      <th>mean</th>\n",
       "      <td>2.874585e+07</td>\n",
       "      <td>2013.958075</td>\n",
       "    </tr>\n",
       "    <tr>\n",
       "      <th>std</th>\n",
       "      <td>6.698250e+07</td>\n",
       "      <td>2.478141</td>\n",
       "    </tr>\n",
       "    <tr>\n",
       "      <th>min</th>\n",
       "      <td>1.000000e+02</td>\n",
       "      <td>2010.000000</td>\n",
       "    </tr>\n",
       "    <tr>\n",
       "      <th>25%</th>\n",
       "      <td>1.200000e+05</td>\n",
       "      <td>2012.000000</td>\n",
       "    </tr>\n",
       "    <tr>\n",
       "      <th>50%</th>\n",
       "      <td>1.400000e+06</td>\n",
       "      <td>2014.000000</td>\n",
       "    </tr>\n",
       "    <tr>\n",
       "      <th>75%</th>\n",
       "      <td>2.790000e+07</td>\n",
       "      <td>2016.000000</td>\n",
       "    </tr>\n",
       "    <tr>\n",
       "      <th>max</th>\n",
       "      <td>9.367000e+08</td>\n",
       "      <td>2018.000000</td>\n",
       "    </tr>\n",
       "  </tbody>\n",
       "</table>\n",
       "</div>"
      ],
      "text/plain": [
       "       domestic_gross         year\n",
       "count    3.359000e+03  3387.000000\n",
       "mean     2.874585e+07  2013.958075\n",
       "std      6.698250e+07     2.478141\n",
       "min      1.000000e+02  2010.000000\n",
       "25%      1.200000e+05  2012.000000\n",
       "50%      1.400000e+06  2014.000000\n",
       "75%      2.790000e+07  2016.000000\n",
       "max      9.367000e+08  2018.000000"
      ]
     },
     "execution_count": 31,
     "metadata": {},
     "output_type": "execute_result"
    }
   ],
   "source": [
    "df.describe()"
   ]
  },
  {
   "cell_type": "code",
   "execution_count": 32,
   "id": "e9a74386",
   "metadata": {
    "scrolled": true
   },
   "outputs": [
    {
     "data": {
      "text/plain": [
       "title              object\n",
       "studio             object\n",
       "domestic_gross    float64\n",
       "foreign_gross      object\n",
       "year                int64\n",
       "dtype: object"
      ]
     },
     "execution_count": 32,
     "metadata": {},
     "output_type": "execute_result"
    }
   ],
   "source": [
    "df.dtypes"
   ]
  },
  {
   "cell_type": "code",
   "execution_count": 49,
   "id": "6c537786",
   "metadata": {
    "scrolled": true
   },
   "outputs": [
    {
     "data": {
      "text/html": [
       "<div>\n",
       "<style scoped>\n",
       "    .dataframe tbody tr th:only-of-type {\n",
       "        vertical-align: middle;\n",
       "    }\n",
       "\n",
       "    .dataframe tbody tr th {\n",
       "        vertical-align: top;\n",
       "    }\n",
       "\n",
       "    .dataframe thead th {\n",
       "        text-align: right;\n",
       "    }\n",
       "</style>\n",
       "<table border=\"1\" class=\"dataframe\">\n",
       "  <thead>\n",
       "    <tr style=\"text-align: right;\">\n",
       "      <th></th>\n",
       "      <th>Unnamed: 0</th>\n",
       "      <th>genre_ids</th>\n",
       "      <th>id</th>\n",
       "      <th>original_language</th>\n",
       "      <th>original_title</th>\n",
       "      <th>popularity</th>\n",
       "      <th>release_date</th>\n",
       "      <th>title</th>\n",
       "      <th>vote_average</th>\n",
       "      <th>vote_count</th>\n",
       "    </tr>\n",
       "  </thead>\n",
       "  <tbody>\n",
       "    <tr>\n",
       "      <th>0</th>\n",
       "      <td>0</td>\n",
       "      <td>[12, 14, 10751]</td>\n",
       "      <td>12444</td>\n",
       "      <td>en</td>\n",
       "      <td>Harry Potter and the Deathly Hallows: Part 1</td>\n",
       "      <td>33.533</td>\n",
       "      <td>2010-11-19</td>\n",
       "      <td>Harry Potter and the Deathly Hallows: Part 1</td>\n",
       "      <td>7.7</td>\n",
       "      <td>10788</td>\n",
       "    </tr>\n",
       "    <tr>\n",
       "      <th>1</th>\n",
       "      <td>1</td>\n",
       "      <td>[14, 12, 16, 10751]</td>\n",
       "      <td>10191</td>\n",
       "      <td>en</td>\n",
       "      <td>How to Train Your Dragon</td>\n",
       "      <td>28.734</td>\n",
       "      <td>2010-03-26</td>\n",
       "      <td>How to Train Your Dragon</td>\n",
       "      <td>7.7</td>\n",
       "      <td>7610</td>\n",
       "    </tr>\n",
       "    <tr>\n",
       "      <th>2</th>\n",
       "      <td>2</td>\n",
       "      <td>[12, 28, 878]</td>\n",
       "      <td>10138</td>\n",
       "      <td>en</td>\n",
       "      <td>Iron Man 2</td>\n",
       "      <td>28.515</td>\n",
       "      <td>2010-05-07</td>\n",
       "      <td>Iron Man 2</td>\n",
       "      <td>6.8</td>\n",
       "      <td>12368</td>\n",
       "    </tr>\n",
       "    <tr>\n",
       "      <th>3</th>\n",
       "      <td>3</td>\n",
       "      <td>[16, 35, 10751]</td>\n",
       "      <td>862</td>\n",
       "      <td>en</td>\n",
       "      <td>Toy Story</td>\n",
       "      <td>28.005</td>\n",
       "      <td>1995-11-22</td>\n",
       "      <td>Toy Story</td>\n",
       "      <td>7.9</td>\n",
       "      <td>10174</td>\n",
       "    </tr>\n",
       "    <tr>\n",
       "      <th>4</th>\n",
       "      <td>4</td>\n",
       "      <td>[28, 878, 12]</td>\n",
       "      <td>27205</td>\n",
       "      <td>en</td>\n",
       "      <td>Inception</td>\n",
       "      <td>27.920</td>\n",
       "      <td>2010-07-16</td>\n",
       "      <td>Inception</td>\n",
       "      <td>8.3</td>\n",
       "      <td>22186</td>\n",
       "    </tr>\n",
       "  </tbody>\n",
       "</table>\n",
       "</div>"
      ],
      "text/plain": [
       "   Unnamed: 0            genre_ids     id original_language  \\\n",
       "0           0      [12, 14, 10751]  12444                en   \n",
       "1           1  [14, 12, 16, 10751]  10191                en   \n",
       "2           2        [12, 28, 878]  10138                en   \n",
       "3           3      [16, 35, 10751]    862                en   \n",
       "4           4        [28, 878, 12]  27205                en   \n",
       "\n",
       "                                 original_title  popularity release_date  \\\n",
       "0  Harry Potter and the Deathly Hallows: Part 1      33.533   2010-11-19   \n",
       "1                      How to Train Your Dragon      28.734   2010-03-26   \n",
       "2                                    Iron Man 2      28.515   2010-05-07   \n",
       "3                                     Toy Story      28.005   1995-11-22   \n",
       "4                                     Inception      27.920   2010-07-16   \n",
       "\n",
       "                                          title  vote_average  vote_count  \n",
       "0  Harry Potter and the Deathly Hallows: Part 1           7.7       10788  \n",
       "1                      How to Train Your Dragon           7.7        7610  \n",
       "2                                    Iron Man 2           6.8       12368  \n",
       "3                                     Toy Story           7.9       10174  \n",
       "4                                     Inception           8.3       22186  "
      ]
     },
     "execution_count": 49,
     "metadata": {},
     "output_type": "execute_result"
    }
   ],
   "source": [
    "import pandas as pd\n",
    "movies = pd.read_csv(\"tmdb.movies.csv.gz\")\n",
    "movies.head()"
   ]
  },
  {
   "cell_type": "code",
   "execution_count": 51,
   "id": "40e5b786",
   "metadata": {},
   "outputs": [
    {
     "data": {
      "text/plain": [
       "count     26517\n",
       "unique    24835\n",
       "top        Eden\n",
       "freq          7\n",
       "Name: original_title, dtype: object"
      ]
     },
     "execution_count": 51,
     "metadata": {},
     "output_type": "execute_result"
    }
   ],
   "source": [
    "movies['original_title'].describe()"
   ]
  },
  {
   "cell_type": "code",
   "execution_count": 54,
   "id": "1417f894",
   "metadata": {},
   "outputs": [
    {
     "data": {
      "text/plain": [
       "<bound method NDFrame.describe of 0        2010-11-19\n",
       "1        2010-03-26\n",
       "2        2010-05-07\n",
       "3        1995-11-22\n",
       "4        2010-07-16\n",
       "            ...    \n",
       "26512    2018-10-13\n",
       "26513    2018-05-01\n",
       "26514    2018-10-01\n",
       "26515    2018-06-22\n",
       "26516    2018-10-05\n",
       "Name: release_date, Length: 26517, dtype: object>"
      ]
     },
     "execution_count": 54,
     "metadata": {},
     "output_type": "execute_result"
    }
   ],
   "source": [
    "movies['release_date'].describe"
   ]
  },
  {
   "cell_type": "code",
   "execution_count": 56,
   "id": "a776cc76",
   "metadata": {},
   "outputs": [
    {
     "data": {
      "text/plain": [
       "count          26517\n",
       "unique          3433\n",
       "top       2010-01-01\n",
       "freq             269\n",
       "Name: release_date, dtype: object"
      ]
     },
     "execution_count": 56,
     "metadata": {},
     "output_type": "execute_result"
    }
   ],
   "source": [
    "movies['releasedate'] =  pd.to_datetime(movies['release_date'])\n",
    "movies['release_date'].describe()"
   ]
  },
  {
   "cell_type": "code",
   "execution_count": 36,
   "id": "baaae56d",
   "metadata": {},
   "outputs": [
    {
     "data": {
      "text/plain": [
       "Unnamed: 0             int64\n",
       "genre_ids             object\n",
       "id                     int64\n",
       "original_language     object\n",
       "original_title        object\n",
       "popularity           float64\n",
       "release_date          object\n",
       "title                 object\n",
       "vote_average         float64\n",
       "vote_count             int64\n",
       "dtype: object"
      ]
     },
     "execution_count": 36,
     "metadata": {},
     "output_type": "execute_result"
    }
   ],
   "source": [
    "df.dtypes"
   ]
  },
  {
   "cell_type": "code",
   "execution_count": 38,
   "id": "413287ac",
   "metadata": {
    "scrolled": true
   },
   "outputs": [
    {
     "name": "stdout",
     "output_type": "stream",
     "text": [
      "<class 'pandas.core.frame.DataFrame'>\n",
      "RangeIndex: 26517 entries, 0 to 26516\n",
      "Data columns (total 10 columns):\n",
      " #   Column             Non-Null Count  Dtype  \n",
      "---  ------             --------------  -----  \n",
      " 0   Unnamed: 0         26517 non-null  int64  \n",
      " 1   genre_ids          26517 non-null  object \n",
      " 2   id                 26517 non-null  int64  \n",
      " 3   original_language  26517 non-null  object \n",
      " 4   original_title     26517 non-null  object \n",
      " 5   popularity         26517 non-null  float64\n",
      " 6   release_date       26517 non-null  object \n",
      " 7   title              26517 non-null  object \n",
      " 8   vote_average       26517 non-null  float64\n",
      " 9   vote_count         26517 non-null  int64  \n",
      "dtypes: float64(2), int64(3), object(5)\n",
      "memory usage: 2.0+ MB\n"
     ]
    }
   ],
   "source": [
    "df.info()"
   ]
  }
 ],
 "metadata": {
  "kernelspec": {
   "display_name": "Python (learn-env)",
   "language": "python",
   "name": "learn-env"
  },
  "language_info": {
   "codemirror_mode": {
    "name": "ipython",
    "version": 3
   },
   "file_extension": ".py",
   "mimetype": "text/x-python",
   "name": "python",
   "nbconvert_exporter": "python",
   "pygments_lexer": "ipython3",
   "version": "3.11.5"
  }
 },
 "nbformat": 4,
 "nbformat_minor": 5
}
